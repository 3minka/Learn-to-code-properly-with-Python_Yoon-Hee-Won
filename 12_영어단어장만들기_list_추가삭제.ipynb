{
 "cells": [
  {
   "cell_type": "code",
   "execution_count": 7,
   "id": "93971f85",
   "metadata": {},
   "outputs": [
    {
     "name": "stdout",
     "output_type": "stream",
     "text": [
      "['수성', '금성', '지구']\n",
      "['수성', '금성', '화성']\n"
     ]
    }
   ],
   "source": [
    "# = ['사과', '딸기', '포도']\n",
    "xx = ['수성', '금성', '지구', '목성', '명왕성']\n",
    "\n",
    "print(xx[0:3])\n",
    "xx[2] = '화성'\n",
    "print(xx[0:3])"
   ]
  },
  {
   "cell_type": "code",
   "execution_count": 8,
   "id": "b77bced4",
   "metadata": {},
   "outputs": [],
   "source": [
    "xx.append(\"지구\")"
   ]
  },
  {
   "cell_type": "code",
   "execution_count": 9,
   "id": "33f202d3",
   "metadata": {},
   "outputs": [
    {
     "name": "stdout",
     "output_type": "stream",
     "text": [
      "['수성', '금성', '화성', '목성', '명왕성', '지구']\n"
     ]
    }
   ],
   "source": [
    "print(xx)"
   ]
  },
  {
   "cell_type": "code",
   "execution_count": 10,
   "id": "dfff6b17",
   "metadata": {},
   "outputs": [],
   "source": [
    "xx.remove(\"지구\")"
   ]
  },
  {
   "cell_type": "code",
   "execution_count": 11,
   "id": "3b03a19d",
   "metadata": {},
   "outputs": [
    {
     "name": "stdout",
     "output_type": "stream",
     "text": [
      "['수성', '금성', '화성', '목성', '명왕성']\n"
     ]
    }
   ],
   "source": [
    "print(xx)"
   ]
  },
  {
   "cell_type": "code",
   "execution_count": 35,
   "id": "ccb6e72b",
   "metadata": {},
   "outputs": [
    {
     "name": "stdout",
     "output_type": "stream",
     "text": [
      "\n",
      "########################################\n",
      "\n",
      "============= 사전 수정 모드 ============\n",
      "\n",
      "1. 등록된 단어보기\n",
      "2. 단어 추가 하기\n",
      "3. 단어 삭제 하기\n",
      "4. 사전 수정 모드 종료하기\n",
      "############################################################\n",
      "\n",
      "선택할 수정 모드를 숫자로 입력하세요 예) 1  >>> 1\n",
      "\n",
      "**************************** 등록된 단어 ****************************\n",
      "apple:사과\n",
      "book:책\n",
      "desk:책상\n",
      "********************************************************\n",
      "\n",
      "########################################\n",
      "\n",
      "============= 사전 수정 모드 ============\n",
      "\n",
      "1. 등록된 단어보기\n",
      "2. 단어 추가 하기\n",
      "3. 단어 삭제 하기\n",
      "4. 사전 수정 모드 종료하기\n",
      "############################################################\n",
      "\n",
      "선택할 수정 모드를 숫자로 입력하세요 예) 1  >>> 4\n"
     ]
    }
   ],
   "source": [
    "##################################################################\n",
    "# title = \"\"\"\n",
    "# 영어 단어 만들어봐요\n",
    "# \"\"\"\n",
    "\n",
    "# print('\\n' +'#'*40)\n",
    "# print(title)\n",
    "# print('#'*40)\n",
    "# print()\n",
    "\n",
    "#voca = [\"apple:사과\", \"book:책\", \"desk:책상\"]\n",
    "\n",
    "# for i in range(len(voca)):\n",
    "#     print(f\"{voca[i]} 입니다.\")\n",
    "##################################################################\n",
    "\n",
    "title = \"\"\"\n",
    "============= 사전 수정 모드 ============\n",
    "\"\"\"\n",
    "voca = [\"apple:사과\", \"book:책\", \"desk:책상\"]\n",
    "user = 0\n",
    "while user != \"4\":\n",
    "    print('\\n' +'#'*40)\n",
    "    print(title)\n",
    "    li = [\"등록된 단어보기\", \"단어 추가 하기\", \"단어 삭제 하기\", \"사전 수정 모드 종료하기\"]\n",
    "    for num, value in enumerate(li):\n",
    "        print(f\"{num+1}. {value}\")\n",
    "    print('#'*60)\n",
    "\n",
    "    print()\n",
    "    user = input(\"선택할 수정 모드를 숫자로 입력하세요 예) 1  >>> \")\n",
    "\n",
    "    if user == \"1\":\n",
    "        print()\n",
    "        print('**************************** 등록된 단어 ****************************')\n",
    "        for i in voca:\n",
    "            print(f\"{i}\")\n",
    "        print('********************************************************')\n",
    "    elif user == \"2\":\n",
    "        print()\n",
    "        new_voca = input(\"단어와 뜻을 입력하세요. ex) 단어:뜻 >>> \")\n",
    "        voca.append(new_voca)\n",
    "    elif user == \"3\":\n",
    "        print(\"현재 단어는 \\n\",voca)\n",
    "        new_voca = input(\"삭제할 단어를 입력하세요. ex) 단어:뜻 >>> \")\n",
    "        voca.remove(new_voca)"
   ]
  },
  {
   "cell_type": "code",
   "execution_count": null,
   "id": "a4812ce2",
   "metadata": {},
   "outputs": [],
   "source": []
  }
 ],
 "metadata": {
  "kernelspec": {
   "display_name": "Python 3 (ipykernel)",
   "language": "python",
   "name": "python3"
  },
  "language_info": {
   "codemirror_mode": {
    "name": "ipython",
    "version": 3
   },
   "file_extension": ".py",
   "mimetype": "text/x-python",
   "name": "python",
   "nbconvert_exporter": "python",
   "pygments_lexer": "ipython3",
   "version": "3.8.12"
  }
 },
 "nbformat": 4,
 "nbformat_minor": 5
}

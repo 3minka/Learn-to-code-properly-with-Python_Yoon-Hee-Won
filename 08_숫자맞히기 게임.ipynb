{
 "cells": [
  {
   "cell_type": "code",
   "execution_count": 8,
   "id": "9f53e278",
   "metadata": {},
   "outputs": [
    {
     "name": "stdout",
     "output_type": "stream",
     "text": [
      "########################################\n",
      "\n",
      "숫자 맞히기 놀이를 시작하겠습니다. \n",
      "\n",
      "1~10사이의 숫자가 있습니다.\n",
      "\n",
      "########################################\n",
      "컴퓨터가 뽑은 숫자는 무엇일까요 ? 10\n",
      "컴퓨터가 더 작은 수 입니다.\n",
      "\n",
      "컴퓨터가 뽑은 숫자는 무엇일까요 ? 6\n",
      "컴퓨터가 더 큰 수 입니다.\n",
      "\n",
      "컴퓨터가 뽑은 숫자는 무엇일까요 ? 7\n",
      "컴퓨터가 더 큰 수 입니다.\n",
      "\n",
      "컴퓨터가 뽑은 숫자는 무엇일까요 ? 8\n",
      "\n",
      "정답 입니다. 컴퓨터가 뽑은 숫자는 8 입니다.\n",
      "현재 4 회 만에 맞췄습니다.\n"
     ]
    }
   ],
   "source": [
    "import random\n",
    "\n",
    "quiz = \"\"\"\n",
    "숫자 맞히기 놀이를 시작하겠습니다. \n",
    "\"\"\"\n",
    "\n",
    "print('#'*40)\n",
    "print(quiz)\n",
    "print(\"1~10사이의 숫자가 있습니다.\")\n",
    "print()\n",
    "print('#'*40)\n",
    "\n",
    "computer_su = random.randint(1, 10)\n",
    "user_su = 0\n",
    "count = 0\n",
    "\n",
    "while computer_su != user_su:\n",
    "    user_su = int(input(\"컴퓨터가 뽑은 숫자는 무엇일까요 ? \"))\n",
    "    count += 1\n",
    "    \n",
    "    if computer_su > user_su:\n",
    "        print(\"컴퓨터가 더 큰 수 입니다.\")\n",
    "    elif computer_su < user_su:\n",
    "        print(\"컴퓨터가 더 작은 수 입니다.\")\n",
    "    print()\n",
    "    \n",
    "print(f\"정답 입니다. 컴퓨터가 뽑은 숫자는 {computer_su} 입니다.\")\n",
    "print(f\"현재 {count} 회 만에 맞췄습니다.\")"
   ]
  },
  {
   "cell_type": "code",
   "execution_count": null,
   "id": "6774c4b9",
   "metadata": {},
   "outputs": [],
   "source": []
  }
 ],
 "metadata": {
  "kernelspec": {
   "display_name": "Python 3 (ipykernel)",
   "language": "python",
   "name": "python3"
  },
  "language_info": {
   "codemirror_mode": {
    "name": "ipython",
    "version": 3
   },
   "file_extension": ".py",
   "mimetype": "text/x-python",
   "name": "python",
   "nbconvert_exporter": "python",
   "pygments_lexer": "ipython3",
   "version": "3.8.12"
  }
 },
 "nbformat": 4,
 "nbformat_minor": 5
}

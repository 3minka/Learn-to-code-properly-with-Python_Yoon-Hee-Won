{
 "cells": [
  {
   "cell_type": "code",
   "execution_count": 3,
   "id": "54e55f3c",
   "metadata": {},
   "outputs": [
    {
     "name": "stdout",
     "output_type": "stream",
     "text": [
      "당신의 이름은 무엇인가요?가나다\n",
      "가나다님 안녕하세요\n"
     ]
    }
   ],
   "source": [
    "name = input(\"당신의 이름은 무엇인가요?\")\n",
    "print(name+\"님 안녕하세요\")"
   ]
  },
  {
   "cell_type": "code",
   "execution_count": 4,
   "id": "5a659258",
   "metadata": {},
   "outputs": [
    {
     "name": "stdout",
     "output_type": "stream",
     "text": [
      "당신의 이름은 무엇인가요?가나다\n",
      "가나다 님 안녕하세요\n"
     ]
    }
   ],
   "source": [
    "name = input(\"당신의 이름은 무엇인가요?\")\n",
    "print(name, \"님 안녕하세요\") # a다음에 붙여서 쓸때는 +를, 띄어쓰기는 ,(콤마)로 표시하자"
   ]
  },
  {
   "cell_type": "code",
   "execution_count": 9,
   "id": "23d7984e",
   "metadata": {},
   "outputs": [
    {
     "name": "stdout",
     "output_type": "stream",
     "text": [
      "당신의 이름은 무엇인가요?가나다\n",
      "가나다님 안녕하세요 \n",
      "강의를 수강해주셔서 감사합니다\n"
     ]
    }
   ],
   "source": [
    "name = input(\"당신의 이름은 무엇인가요?\")\n",
    "print(name + \"님 안녕하세요\", '\\n' + '강의를 수강해주셔서 감사합니다') # a다음에 붙여서 쓸때는 +를, 띄어쓰기는 ,(콤마)로 표시하자"
   ]
  },
  {
   "cell_type": "code",
   "execution_count": 11,
   "id": "20326a0a",
   "metadata": {},
   "outputs": [
    {
     "name": "stdout",
     "output_type": "stream",
     "text": [
      "농구공 1개 5000원\n",
      "농구공이 몇개가 필요한가요 ?5\n",
      "총 금액은 25000 원 입니다\n"
     ]
    }
   ],
   "source": [
    "print(\"농구공 1개 5000원\")\n",
    "count_1 = int(input(\"농구공이 몇개가 필요한가요 ?\"))\n",
    "\n",
    "print(\"총 금액은\", count_1*5000, '원 입니다')"
   ]
  },
  {
   "cell_type": "code",
   "execution_count": 13,
   "id": "6790fe76",
   "metadata": {},
   "outputs": [
    {
     "name": "stdout",
     "output_type": "stream",
     "text": [
      "농구공 1개 7000원\n",
      "농구공이 몇개가 필요한가요?5\n",
      "총 금액은 35000 원 입니다\n"
     ]
    }
   ],
   "source": [
    "print(\"농구공 1개 7000원\")\n",
    "count_2 = int(input(\"농구공이 몇개가 필요한가요?\"))\n",
    "\n",
    "print(f\"총 금액은 {7000*count_2} 원 입니다\")"
   ]
  }
 ],
 "metadata": {
  "kernelspec": {
   "display_name": "Python 3 (ipykernel)",
   "language": "python",
   "name": "python3"
  },
  "language_info": {
   "codemirror_mode": {
    "name": "ipython",
    "version": 3
   },
   "file_extension": ".py",
   "mimetype": "text/x-python",
   "name": "python",
   "nbconvert_exporter": "python",
   "pygments_lexer": "ipython3",
   "version": "3.8.12"
  }
 },
 "nbformat": 4,
 "nbformat_minor": 5
}

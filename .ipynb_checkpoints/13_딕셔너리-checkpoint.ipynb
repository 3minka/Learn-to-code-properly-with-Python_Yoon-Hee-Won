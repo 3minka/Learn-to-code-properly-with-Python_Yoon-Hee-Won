{
 "cells": [
  {
   "cell_type": "code",
   "execution_count": 1,
   "id": "2123a454",
   "metadata": {},
   "outputs": [
    {
     "name": "stdout",
     "output_type": "stream",
     "text": [
      "{'apple': '사과', 'book': '책'}\n"
     ]
    }
   ],
   "source": [
    "a = {\"apple\":\"사과\", \"book\":\"책\"}\n",
    "\n",
    "print(a)"
   ]
  },
  {
   "cell_type": "code",
   "execution_count": 9,
   "id": "85f93a3b",
   "metadata": {},
   "outputs": [
    {
     "name": "stdout",
     "output_type": "stream",
     "text": [
      "빨강색은 영어로  red\n",
      "검은색은 영어로  black\n"
     ]
    }
   ],
   "source": [
    "planets = {\"검은색\":'black', \"빨강색\":\"red\", \"파랑색\":\"blue\"}\n",
    "\n",
    "x = planets[\"빨강색\"] # key 사용\n",
    "y = planets.get(\"검은색\") # get() 함수 사용\n",
    "\n",
    "print(\"빨강색은 영어로 \", x)\n",
    "print(\"검은색은 영어로 \", y)"
   ]
  },
  {
   "cell_type": "code",
   "execution_count": 10,
   "id": "8d05000c",
   "metadata": {},
   "outputs": [
    {
     "name": "stdout",
     "output_type": "stream",
     "text": [
      "{'검은색': 'black', '빨강색': 'red', '파랑색': 'blue', '목성': 'jupiter'}\n"
     ]
    }
   ],
   "source": [
    "planets[\"목성\"] = \"jupiter\"\n",
    "print(planets)"
   ]
  },
  {
   "cell_type": "code",
   "execution_count": 11,
   "id": "15e3b66c",
   "metadata": {},
   "outputs": [
    {
     "name": "stdout",
     "output_type": "stream",
     "text": [
      "{'검은색': 'black', '빨강색': 'red', '파랑색': 'blue'}\n"
     ]
    }
   ],
   "source": [
    "del planets[\"목성\"]\n",
    "print(planets)"
   ]
  },
  {
   "cell_type": "code",
   "execution_count": 13,
   "id": "26ea8145",
   "metadata": {},
   "outputs": [
    {
     "name": "stdout",
     "output_type": "stream",
     "text": [
      "찾을 한자의 뜻을 입력하세요 \n",
      " >>>석\n",
      "검색한 한자는 등록된 상태가 아닙니다.\n"
     ]
    }
   ],
   "source": [
    "# 한자 사전 만들기\n",
    "\n",
    "dic_hanza = {\"자\":\"아들자\", \"여\":\"여자녀\", \"천\":\"하늘천\"}\n",
    "\n",
    "user_input = input(\"찾을 한자의 뜻을 입력하세요 \\n >>>\")\n",
    "if user_input in dic_hanza:\n",
    "    print(f\"검색하신 {user_input}는 {dic_hanza[user_input]}입니다.\")\n",
    "else:\n",
    "    print(\"검색한 한자는 등록된 상태가 아닙니다.\")"
   ]
  },
  {
   "cell_type": "code",
   "execution_count": null,
   "id": "9575bd03",
   "metadata": {},
   "outputs": [],
   "source": []
  }
 ],
 "metadata": {
  "kernelspec": {
   "display_name": "Python 3 (ipykernel)",
   "language": "python",
   "name": "python3"
  },
  "language_info": {
   "codemirror_mode": {
    "name": "ipython",
    "version": 3
   },
   "file_extension": ".py",
   "mimetype": "text/x-python",
   "name": "python",
   "nbconvert_exporter": "python",
   "pygments_lexer": "ipython3",
   "version": "3.8.12"
  }
 },
 "nbformat": 4,
 "nbformat_minor": 5
}

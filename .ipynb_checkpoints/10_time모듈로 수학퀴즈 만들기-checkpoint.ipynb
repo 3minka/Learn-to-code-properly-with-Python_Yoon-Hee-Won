{
 "cells": [
  {
   "cell_type": "code",
   "execution_count": 6,
   "id": "21d7699e",
   "metadata": {},
   "outputs": [
    {
     "name": "stdout",
     "output_type": "stream",
     "text": [
      "########################################\n",
      "\n",
      "수학퀴즈를 10문제 풀어보겠습니다. \n",
      "\n",
      "########################################\n",
      "1번째 문제 :: 9 * 9 = 81\n",
      "정답입니다. 현재 점수는 1점 입니다.\n",
      "\n",
      "2번째 문제 :: 2 * 7 = 14\n",
      "정답입니다. 현재 점수는 2점 입니다.\n",
      "\n",
      "3번째 문제 :: 4 * 2 = 8\n",
      "정답입니다. 현재 점수는 3점 입니다.\n",
      "\n",
      "4번째 문제 :: 9 * 9 = 81\n",
      "정답입니다. 현재 점수는 4점 입니다.\n",
      "\n",
      "5번째 문제 :: 10 * 7 = 70\n",
      "정답입니다. 현재 점수는 5점 입니다.\n",
      "\n",
      "6번째 문제 :: 7 * 5 = 5\n",
      "오답입니다. 감점으로 현재 4 점 입니다.\n",
      "\n",
      "7번째 문제 :: 1 * 8 = 5\n",
      "오답입니다. 감점으로 현재 3 점 입니다.\n",
      "\n",
      "8번째 문제 :: 8 * 5 = 5\n",
      "오답입니다. 감점으로 현재 2 점 입니다.\n",
      "\n",
      "9번째 문제 :: 1 * 9 = 4\n",
      "오답입니다. 감점으로 현재 1 점 입니다.\n",
      "\n",
      "10번째 문제 :: 2 * 9 = 18\n",
      "정답입니다. 현재 점수는 2점 입니다.\n",
      "\n",
      "총 걸린시간은 13.699 입니다. 총 점수는 2 입니다.\n",
      "\n"
     ]
    }
   ],
   "source": [
    "import time\n",
    "import random\n",
    "\n",
    "print(\"#\"*40)\n",
    "print(\"\\n수학퀴즈를 10문제 풀어보겠습니다. \\n\")\n",
    "print(\"#\"*40)\n",
    "\n",
    "total_score = 0\n",
    "score = 0\n",
    "start_time = time.time()\n",
    "\n",
    "for i in range(1, 11):\n",
    "    a_nansu = random.randint(1,10)\n",
    "    b_nansu = random.randint(1,10)\n",
    "    \n",
    "    user_su = int(input(f\"{i}번째 문제 :: {a_nansu} * {b_nansu} = \"))\n",
    "    total_su = a_nansu*b_nansu\n",
    "    \n",
    "    if user_su == total_su:\n",
    "        score += 1\n",
    "        print(f\" 정답입니다. 현재 점수는 {score}점 입니다.\\n\")\n",
    "        \n",
    "    elif user_su != total_su:\n",
    "        score -= 1\n",
    "        print(f\" 오답입니다. 감점으로 현재 {score} 점 입니다.\\n\")\n",
    "end_time = time.time()\n",
    "\n",
    "time = round(end_time - start_time, 3)\n",
    "\n",
    "total_score = score\n",
    "print(f\"총 걸린시간은 {time}초 입니다. 총 점수는 {total_score} 입니다.\\n\")"
   ]
  },
  {
   "cell_type": "code",
   "execution_count": null,
   "id": "333e28f3",
   "metadata": {},
   "outputs": [],
   "source": []
  }
 ],
 "metadata": {
  "kernelspec": {
   "display_name": "Python 3 (ipykernel)",
   "language": "python",
   "name": "python3"
  },
  "language_info": {
   "codemirror_mode": {
    "name": "ipython",
    "version": 3
   },
   "file_extension": ".py",
   "mimetype": "text/x-python",
   "name": "python",
   "nbconvert_exporter": "python",
   "pygments_lexer": "ipython3",
   "version": "3.8.12"
  }
 },
 "nbformat": 4,
 "nbformat_minor": 5
}

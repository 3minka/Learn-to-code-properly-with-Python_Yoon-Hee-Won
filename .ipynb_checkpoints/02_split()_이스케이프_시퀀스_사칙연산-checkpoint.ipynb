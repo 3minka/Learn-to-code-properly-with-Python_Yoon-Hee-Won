{
 "cells": [
  {
   "cell_type": "code",
   "execution_count": 7,
   "id": "b027fccc",
   "metadata": {},
   "outputs": [
    {
     "name": "stdout",
     "output_type": "stream",
     "text": [
      "곱셈할 두 수를 입력 하시오 예) 5 45 4\n",
      "곱셈결과 : 20 입니다\n",
      "곱셈결과 : 5*4=20 입니다.\n"
     ]
    }
   ],
   "source": [
    "mul_a, mul_b = input(\"곱셈할 두 수를 입력 하시오 예) 5 4\").split()\n",
    "mul_a = int(mul_a)\n",
    "mul_b = int(mul_b)\n",
    "\n",
    "print(\"곱셈결과 :\", mul_a*mul_b, \"입니다\")\n",
    "\n",
    "print(f\"곱셈결과 : {mul_a}*{mul_b}={mul_a*mul_b} 입니다.\")"
   ]
  },
  {
   "cell_type": "code",
   "execution_count": 8,
   "id": "d198b81b",
   "metadata": {},
   "outputs": [
    {
     "name": "stdout",
     "output_type": "stream",
     "text": [
      "나눗셈할 두 수를 입력 하시오 예) 5 45 4\n",
      "나눗셈 결과 : 1.25 입니다\n",
      "나눗셈 결과 : 5/4=1.25 입니다.\n"
     ]
    }
   ],
   "source": [
    "mul_a, mul_b = input(\"나눗셈할 두 수를 입력 하시오 예) 5 4\").split()\n",
    "mul_a = int(mul_a)\n",
    "mul_b = int(mul_b)\n",
    "\n",
    "print(\"나눗셈 결과 :\", mul_a/mul_b, \"입니다\")\n",
    "\n",
    "print(f\"나눗셈 결과 : {mul_a}/{mul_b}={mul_a/mul_b} 입니다.\")"
   ]
  },
  {
   "cell_type": "code",
   "execution_count": 9,
   "id": "eeac643e",
   "metadata": {},
   "outputs": [
    {
     "name": "stdout",
     "output_type": "stream",
     "text": [
      "덧셈할 두 수를 입력 하시오 예) 5 45 4\n",
      "덧셈 결과 : 9 입니다\n",
      "덧셈결과 : 5+4=9 입니다.\n"
     ]
    }
   ],
   "source": [
    "mul_a, mul_b = input(\"덧셈할 두 수를 입력 하시오 예) 5 4\").split()\n",
    "mul_a = int(mul_a)\n",
    "mul_b = int(mul_b)\n",
    "\n",
    "print(\"덧셈 결과 :\", mul_a+mul_b, \"입니다\")\n",
    "\n",
    "print(f\"덧셈결과 : {mul_a}+{mul_b}={mul_a+mul_b} 입니다.\")"
   ]
  },
  {
   "cell_type": "code",
   "execution_count": 10,
   "id": "ca91965b",
   "metadata": {},
   "outputs": [
    {
     "name": "stdout",
     "output_type": "stream",
     "text": [
      "뺄셈할 두 수를 입력 하시오 예) 5 45 4\n",
      "뺄셈결과 : 1 입니다\n",
      "뺄셈결과 : 5-4=1 입니다.\n"
     ]
    }
   ],
   "source": [
    "mul_a, mul_b = input(\"뺄셈할 두 수를 입력 하시오 예) 5 4\").split()\n",
    "mul_a = int(mul_a)\n",
    "mul_b = int(mul_b)\n",
    "\n",
    "print(\"뺄셈결과 :\", mul_a-mul_b, \"입니다\")\n",
    "\n",
    "print(f\"뺄셈결과 : {mul_a}-{mul_b}={mul_a-mul_b} 입니다.\")"
   ]
  },
  {
   "cell_type": "code",
   "execution_count": null,
   "id": "6df2ffdc",
   "metadata": {},
   "outputs": [],
   "source": []
  }
 ],
 "metadata": {
  "kernelspec": {
   "display_name": "Python 3 (ipykernel)",
   "language": "python",
   "name": "python3"
  },
  "language_info": {
   "codemirror_mode": {
    "name": "ipython",
    "version": 3
   },
   "file_extension": ".py",
   "mimetype": "text/x-python",
   "name": "python",
   "nbconvert_exporter": "python",
   "pygments_lexer": "ipython3",
   "version": "3.8.12"
  }
 },
 "nbformat": 4,
 "nbformat_minor": 5
}

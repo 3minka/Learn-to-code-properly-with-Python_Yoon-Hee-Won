{
 "cells": [
  {
   "cell_type": "code",
   "execution_count": 3,
   "id": "01f7ebf7",
   "metadata": {},
   "outputs": [
    {
     "name": "stdout",
     "output_type": "stream",
     "text": [
      "0.7068\n"
     ]
    }
   ],
   "source": [
    "import random\n",
    "\n",
    "print(round(random.random(), 4))"
   ]
  },
  {
   "cell_type": "code",
   "execution_count": 5,
   "id": "1111e32a",
   "metadata": {},
   "outputs": [
    {
     "name": "stdout",
     "output_type": "stream",
     "text": [
      "4\n",
      "4\n",
      "1\n",
      "3\n",
      "5\n"
     ]
    }
   ],
   "source": [
    "import random\n",
    "\n",
    "for i in range(5):\n",
    "    print(random.randint(0, 5))"
   ]
  },
  {
   "cell_type": "code",
   "execution_count": 8,
   "id": "0b4b6392",
   "metadata": {},
   "outputs": [
    {
     "name": "stdout",
     "output_type": "stream",
     "text": [
      "3.14 와 3.145사이의 값 : 3.142217393355746\n",
      "3.14 와 3.145사이의 값 : 3.1419986972700227\n",
      "3.14 와 3.145사이의 값 : 3.1424398494024595\n",
      "3.14 와 3.145사이의 값 : 3.143017835078889\n",
      "3.14 와 3.145사이의 값 : 3.1405719194740893\n"
     ]
    }
   ],
   "source": [
    "import random\n",
    "\n",
    "for i in range(5):\n",
    "    print(f\"{3.14} 와 {3.145}사이의 값 : {random.uniform(3.14, 3.145)}\")"
   ]
  },
  {
   "cell_type": "code",
   "execution_count": 9,
   "id": "995fe5e9",
   "metadata": {},
   "outputs": [
    {
     "name": "stdout",
     "output_type": "stream",
     "text": [
      "10 와 100사이의 값 : 69\n",
      "10 와 100사이의 값 : 96\n",
      "10 와 100사이의 값 : 49\n",
      "10 와 100사이의 값 : 62\n",
      "10 와 100사이의 값 : 58\n"
     ]
    }
   ],
   "source": [
    "import random\n",
    "\n",
    "for i in range(5):\n",
    "    print(f\"{10} 와 {100}사이의 값 : {random.randrange(10, 100)}\")"
   ]
  },
  {
   "cell_type": "code",
   "execution_count": 13,
   "id": "47ce2c9b",
   "metadata": {},
   "outputs": [
    {
     "name": "stdout",
     "output_type": "stream",
     "text": [
      "['book', 'apple', 'first', 'sky']\n",
      "['first', 'apple', 'book', 'sky']\n",
      "['book', 'apple', 'first', 'sky']\n",
      "['first', 'book', 'apple', 'sky']\n",
      "['apple', 'sky', 'book', 'first']\n"
     ]
    }
   ],
   "source": [
    "import random\n",
    "\n",
    "a_list = ['apple', 'book', 'sky', 'first']\n",
    "\n",
    "for i in range(5):\n",
    "    random.shuffle(a_list)\n",
    "    print(f\"{a_list}\")"
   ]
  },
  {
   "cell_type": "code",
   "execution_count": 15,
   "id": "c1bde4a0",
   "metadata": {},
   "outputs": [
    {
     "name": "stdout",
     "output_type": "stream",
     "text": [
      "first\n",
      "first\n",
      "sky\n",
      "first\n",
      "apple\n"
     ]
    }
   ],
   "source": [
    "import random\n",
    "\n",
    "a_list = ['apple', 'book', 'sky', 'first']\n",
    "\n",
    "for i in range(5):\n",
    "    print(f\"{random.choice(a_list)}\")"
   ]
  },
  {
   "cell_type": "code",
   "execution_count": 19,
   "id": "f32b9b28",
   "metadata": {},
   "outputs": [
    {
     "name": "stdout",
     "output_type": "stream",
     "text": [
      "[1]\n",
      "[1]\n",
      "[3]\n",
      "[5]\n",
      "[1]\n"
     ]
    }
   ],
   "source": [
    "import random\n",
    "\n",
    "for i in range(5):\n",
    "    a_list = random.choices([1,2,3,4,5], [0.1, 0.2, 0.3, 0.4, 0.5]) #뒤에 가중치입니다. \n",
    "    print(f\"{a_list}\")"
   ]
  },
  {
   "cell_type": "code",
   "execution_count": 25,
   "id": "6444dbfc",
   "metadata": {},
   "outputs": [
    {
     "name": "stdout",
     "output_type": "stream",
     "text": [
      "[8, 10, 7]\n",
      "[1, 8, 2]\n",
      "[7, 6, 10]\n",
      "[3, 5, 1]\n",
      "[6, 2, 5]\n"
     ]
    }
   ],
   "source": [
    "import random\n",
    "\n",
    "a_list = []\n",
    "for i in range(1, 11):\n",
    "    a_list.append(i)\n",
    "\n",
    "for i in range(5):\n",
    "    b = random.sample(a_list, 3)\n",
    "    print(b)"
   ]
  },
  {
   "cell_type": "code",
   "execution_count": 34,
   "id": "22b2c132",
   "metadata": {},
   "outputs": [
    {
     "name": "stdout",
     "output_type": "stream",
     "text": [
      "컴퓨터가 선택할 숫자를 맞추자 !\n",
      "1부터 10까지 숫자 중 한개를 선택하세요.5\n",
      "다시 도전하세요, 컴퓨터가 선택한 숫자는 : 2 입니다\n",
      "그만 하시려면 2을 입력해주세요\n",
      "숫자를 입력해주세요 : 2\n"
     ]
    }
   ],
   "source": [
    "import random\n",
    "\n",
    "print(\"컴퓨터가 선택할 숫자를 맞추자 !\")\n",
    "\n",
    "value = int(input(\"1부터 10까지 숫자 중 한개를 선택하세요.\"))\n",
    "\n",
    "compute = random.randint(1, 10)\n",
    "while True:\n",
    "    if compute == value:\n",
    "        pirnt(\"맞췄습니다.\")\n",
    "    else:\n",
    "        print(\"다시 도전하세요, 컴퓨터가 선택한 숫자는 :\", compute, \"입니다\")\n",
    "        print(\"그만 하시려면 2을 입력해주세요\")\n",
    "        replay = input(\"숫자를 입력해주세요 : \")\n",
    "        if replay == '2':\n",
    "            break"
   ]
  },
  {
   "cell_type": "code",
   "execution_count": null,
   "id": "a2167969",
   "metadata": {},
   "outputs": [],
   "source": []
  }
 ],
 "metadata": {
  "kernelspec": {
   "display_name": "Python 3 (ipykernel)",
   "language": "python",
   "name": "python3"
  },
  "language_info": {
   "codemirror_mode": {
    "name": "ipython",
    "version": 3
   },
   "file_extension": ".py",
   "mimetype": "text/x-python",
   "name": "python",
   "nbconvert_exporter": "python",
   "pygments_lexer": "ipython3",
   "version": "3.8.12"
  }
 },
 "nbformat": 4,
 "nbformat_minor": 5
}

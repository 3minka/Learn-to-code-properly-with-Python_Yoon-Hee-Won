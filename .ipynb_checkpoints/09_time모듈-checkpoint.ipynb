{
 "cells": [
  {
   "cell_type": "code",
   "execution_count": 1,
   "id": "3db0ac0d",
   "metadata": {},
   "outputs": [
    {
     "name": "stdout",
     "output_type": "stream",
     "text": [
      "1658642910.3248413\n"
     ]
    }
   ],
   "source": [
    "import time\n",
    "\n",
    "print(time.time())"
   ]
  },
  {
   "cell_type": "code",
   "execution_count": 2,
   "id": "33f4d0eb",
   "metadata": {},
   "outputs": [
    {
     "name": "stdout",
     "output_type": "stream",
     "text": [
      "time.struct_time(tm_year=2022, tm_mon=7, tm_mday=24, tm_hour=15, tm_min=9, tm_sec=21, tm_wday=6, tm_yday=205, tm_isdst=0)\n"
     ]
    }
   ],
   "source": [
    "import time \n",
    "print(time.localtime(time.time()))"
   ]
  },
  {
   "cell_type": "code",
   "execution_count": 4,
   "id": "2e6b61a1",
   "metadata": {},
   "outputs": [
    {
     "name": "stdout",
     "output_type": "stream",
     "text": [
      "년 :  2022\n",
      "월 :  7\n",
      "일 :  24\n",
      "시 :  15\n",
      "분 :  12\n",
      "초 :  15\n"
     ]
    }
   ],
   "source": [
    "tm = time.localtime()\n",
    "\n",
    "print(\"년 : \", tm.tm_year)\n",
    "print(\"월 : \", tm.tm_mon)\n",
    "print(\"일 : \", tm.tm_mday)\n",
    "print(\"시 : \", tm.tm_hour)\n",
    "print(\"분 : \", tm.tm_min)\n",
    "print(\"초 : \", tm.tm_sec)"
   ]
  },
  {
   "cell_type": "code",
   "execution_count": 6,
   "id": "112c06b1",
   "metadata": {},
   "outputs": [
    {
     "name": "stdout",
     "output_type": "stream",
     "text": [
      "2022-07-24\n"
     ]
    }
   ],
   "source": [
    "now = time.localtime()\n",
    "\n",
    "print(time.strftime('%Y-%m-%d', now))"
   ]
  },
  {
   "cell_type": "code",
   "execution_count": 9,
   "id": "cf5e1f62",
   "metadata": {},
   "outputs": [
    {
     "name": "stdout",
     "output_type": "stream",
     "text": [
      "Sun Jul 24 15:24:57 2022\n",
      "07/24/22\n",
      "15:24:57\n"
     ]
    }
   ],
   "source": [
    "now = time.localtime()\n",
    "\n",
    "print(time.strftime('%c', now)) # 현재 요일, 월, 일, 시간, 분, 초, 년\n",
    "print(time.strftime('%x', now)) # 현재 월, 일, 년\n",
    "print(time.strftime('%X', now)) # 현재 시간, 분, 초"
   ]
  },
  {
   "cell_type": "code",
   "execution_count": 11,
   "id": "4131a76a",
   "metadata": {},
   "outputs": [
    {
     "name": "stdout",
     "output_type": "stream",
     "text": [
      "15시 - 24분 - 57초\n"
     ]
    }
   ],
   "source": [
    "print(time.strftime('%H시 - %M분 - %S초', now))"
   ]
  },
  {
   "cell_type": "code",
   "execution_count": 13,
   "id": "1b7c0688",
   "metadata": {},
   "outputs": [
    {
     "name": "stdout",
     "output_type": "stream",
     "text": [
      "2022-07-24 15:27:06.025512\n",
      "2022\n"
     ]
    }
   ],
   "source": [
    "import datetime as dt\n",
    "\n",
    "print(dt.datetime.today())\n",
    "print(dt.datetime.today().year)"
   ]
  },
  {
   "cell_type": "code",
   "execution_count": null,
   "id": "0b871eea",
   "metadata": {},
   "outputs": [],
   "source": []
  }
 ],
 "metadata": {
  "kernelspec": {
   "display_name": "Python 3 (ipykernel)",
   "language": "python",
   "name": "python3"
  },
  "language_info": {
   "codemirror_mode": {
    "name": "ipython",
    "version": 3
   },
   "file_extension": ".py",
   "mimetype": "text/x-python",
   "name": "python",
   "nbconvert_exporter": "python",
   "pygments_lexer": "ipython3",
   "version": "3.8.12"
  }
 },
 "nbformat": 4,
 "nbformat_minor": 5
}

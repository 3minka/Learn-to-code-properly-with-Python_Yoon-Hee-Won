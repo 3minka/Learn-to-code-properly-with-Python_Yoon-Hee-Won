{
 "cells": [
  {
   "cell_type": "code",
   "execution_count": null,
   "id": "67366cda",
   "metadata": {},
   "outputs": [],
   "source": [
    "\"\"\"\n",
    "// 몫\n",
    "%  나머지\n",
    "\"\"\""
   ]
  },
  {
   "cell_type": "code",
   "execution_count": 3,
   "id": "5156dbdd",
   "metadata": {},
   "outputs": [
    {
     "name": "stdout",
     "output_type": "stream",
     "text": [
      "두 숫자를 입력해주세요 예) 10 210 5\n",
      "10와 5를 입력 받았습니다. 합은 15 입니다.\n",
      "10와 5를 입력 받았습니다. 차는 5 입니다.\n",
      "10와 5를 입력 받았습니다. 몫는 2 입니다.\n",
      "10와 5를 입력 받았습니다. 나머지는 0 입니다.\n"
     ]
    }
   ],
   "source": [
    "a, b = input(\"두 숫자를 입력해주세요 예) 10 2\").split()\n",
    "a = int(a)\n",
    "b = int(b)\n",
    "\n",
    "\n",
    "print(f\"{a}와 {b}를 입력 받았습니다. 합은 {a+b} 입니다.\")\n",
    "print(f\"{a}와 {b}를 입력 받았습니다. 차는 {a-b} 입니다.\")\n",
    "print(f\"{a}와 {b}를 입력 받았습니다. 몫는 {a//b} 입니다.\")\n",
    "print(f\"{a}와 {b}를 입력 받았습니다. 나머지는 {a%b} 입니다.\")"
   ]
  },
  {
   "cell_type": "code",
   "execution_count": 7,
   "id": "0a868243",
   "metadata": {},
   "outputs": [
    {
     "name": "stdout",
     "output_type": "stream",
     "text": [
      "당신의 공부시간을 알아보겠습니다.\n",
      "공부 시간을 분으로 입력해주세요 예) 1시간 -> 60 \n",
      "1152\n",
      "당신의 총 공부 시간은 19시간 이며, 12분 입니다.\n"
     ]
    }
   ],
   "source": [
    "print(\"당신의 공부시간을 알아보겠습니다.\")\n",
    "time = int(input(\"공부 시간을 분으로 입력해주세요 예) 1시간 -> 60 \\n\"))\n",
    "\n",
    "a=time//60\n",
    "b=time%60\n",
    "\n",
    "print(f\"당신의 총 공부 시간은 {a}시간 이며, {b}분 입니다.\")"
   ]
  },
  {
   "cell_type": "code",
   "execution_count": 11,
   "id": "2e14dcc2",
   "metadata": {},
   "outputs": [
    {
     "name": "stdout",
     "output_type": "stream",
     "text": [
      "원의 반지름을 입력해주세요 \n",
      "50\n",
      "원의 넓이는? 파이*50.0의 제곱 = 7850.0\n",
      "원의 넓이는? pie*50.0의 제곱 = 7850.0\n"
     ]
    }
   ],
   "source": [
    "r = float(input(\"원의 반지름을 입력해주세요 \\n\"))\n",
    "print(f\"원의 넓이는? 파이*{r}의 제곱 = {r*r*3.14}\")\n",
    "\n",
    "pie = 3.14\n",
    "print(f\"원의 넓이는? pie*{r}의 제곱 = {r**2*pie}\")"
   ]
  },
  {
   "cell_type": "code",
   "execution_count": 12,
   "id": "13200088",
   "metadata": {},
   "outputs": [
    {
     "name": "stdout",
     "output_type": "stream",
     "text": [
      "원의 반지름을 입력해주세요 \n",
      "15.3\n",
      "원의 넓이는? 파이*15.3의 거듭제곱 = 735.0426000000001\n",
      "원의 넓이는? pie*15.3의 거듭제곱 = 735.04\n"
     ]
    }
   ],
   "source": [
    "r = float(input(\"원의 반지름을 입력해주세요 \\n\"))\n",
    "print(f\"원의 넓이는? 파이*{r}의 거듭제곱 = {r*r*3.14}\")\n",
    "\n",
    "pie = 3.14\n",
    "print(f\"원의 넓이는? pie*{r}의 거듭제곱 = {round(r**2*pie, 2)}\")"
   ]
  },
  {
   "cell_type": "code",
   "execution_count": null,
   "id": "58075bb2",
   "metadata": {},
   "outputs": [],
   "source": []
  },
  {
   "cell_type": "code",
   "execution_count": null,
   "id": "f08c28d9",
   "metadata": {},
   "outputs": [],
   "source": []
  },
  {
   "cell_type": "code",
   "execution_count": null,
   "id": "f7d39870",
   "metadata": {},
   "outputs": [],
   "source": []
  }
 ],
 "metadata": {
  "kernelspec": {
   "display_name": "Python 3 (ipykernel)",
   "language": "python",
   "name": "python3"
  },
  "language_info": {
   "codemirror_mode": {
    "name": "ipython",
    "version": 3
   },
   "file_extension": ".py",
   "mimetype": "text/x-python",
   "name": "python",
   "nbconvert_exporter": "python",
   "pygments_lexer": "ipython3",
   "version": "3.8.12"
  }
 },
 "nbformat": 4,
 "nbformat_minor": 5
}

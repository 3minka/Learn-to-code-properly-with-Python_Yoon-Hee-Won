{
 "cells": [
  {
   "cell_type": "code",
   "execution_count": null,
   "id": "9a957136",
   "metadata": {},
   "outputs": [],
   "source": [
    "'''\n",
    "== 같다\n",
    "!= 같지않다\n",
    "> 크다\n",
    "< 작다\n",
    ">= 크거나 같다\n",
    "<= 작거나 같다\n",
    "'''"
   ]
  },
  {
   "cell_type": "code",
   "execution_count": 4,
   "id": "2b4048b2",
   "metadata": {},
   "outputs": [
    {
     "name": "stdout",
     "output_type": "stream",
     "text": [
      "13\n",
      "13는 홀수입니다.\n"
     ]
    }
   ],
   "source": [
    "su = int(input())\n",
    "\n",
    "if su %2 == 0:\n",
    "    print(f\"{su}는 짝수입니다.\")\n",
    "else:\n",
    "    print(f\"{su}는 홀수입니다.\")"
   ]
  },
  {
   "cell_type": "code",
   "execution_count": 7,
   "id": "86f4d2f6",
   "metadata": {},
   "outputs": [
    {
     "name": "stdout",
     "output_type": "stream",
     "text": [
      "당신의 점수를 입력해주세요 : 89\n",
      "당신의 점수 : 89는 이번 시험에 pass 입니다.\n"
     ]
    }
   ],
   "source": [
    "pass_score = 80\n",
    "score = int(input(\"당신의 점수를 입력해주세요 : \"))\n",
    "\n",
    "if score >= pass_score:\n",
    "    print(f\"당신의 점수 : {score}는 이번 시험에 pass 입니다.\")\n",
    "    \n",
    "else:\n",
    "    print(f\"당신의 점수 : {score}는 이번 시험에 불합격했습니다.\")"
   ]
  },
  {
   "cell_type": "code",
   "execution_count": null,
   "id": "96e54e5a",
   "metadata": {},
   "outputs": [],
   "source": []
  },
  {
   "cell_type": "code",
   "execution_count": null,
   "id": "ef3d333b",
   "metadata": {},
   "outputs": [],
   "source": []
  }
 ],
 "metadata": {
  "kernelspec": {
   "display_name": "Python 3 (ipykernel)",
   "language": "python",
   "name": "python3"
  },
  "language_info": {
   "codemirror_mode": {
    "name": "ipython",
    "version": 3
   },
   "file_extension": ".py",
   "mimetype": "text/x-python",
   "name": "python",
   "nbconvert_exporter": "python",
   "pygments_lexer": "ipython3",
   "version": "3.8.12"
  }
 },
 "nbformat": 4,
 "nbformat_minor": 5
}
